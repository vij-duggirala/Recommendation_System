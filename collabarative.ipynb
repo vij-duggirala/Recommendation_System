{
 "cells": [
  {
   "cell_type": "code",
   "execution_count": 352,
   "metadata": {},
   "outputs": [],
   "source": [
    "import pandas as pd\n",
    "import numpy as np\n",
    "\n",
    "df_users = pd.read_csv(\"Mldata/users.csv\")\n",
    "df_posts = pd.read_csv(\"Mldata/posts.csv\")\n",
    "df_views = pd.read_csv(\"Mldata/views.csv\")\n",
    "df_posts.columns = ['_id' , 'title' , 'category' , 'ptype']\n",
    "user_dictionary = {}\n",
    "for i in range(len(df_users['_id'])):\n",
    "    user_dictionary[df_users['_id'][i]] = i\n",
    "    \n",
    "posts_dictionary = {}\n",
    "for i in range(len(df_posts)):\n",
    "    posts_dictionary[df_posts['_id'][i]] = i\n",
    "item_features = set()\n",
    "for i in range(len(df_posts)):\n",
    "    if(pd.notnull(df_posts['category'][i])):\n",
    "        diff= df_posts['category'][i].split('|')\n",
    "        #print(diff)\n",
    "        for spec in diff:\n",
    "            item_features.add(spec)\n",
    "\n",
    "item_features.add('blog')\n",
    "item_features.add('artwork')\n",
    "item_features.add('project')\n",
    "item_features.add('skill')\n",
    "\n",
    "features = np.array(list(item_features))\n",
    "features_dictionary = {}\n",
    "for i in range(len(features)):\n",
    "    features_dictionary[features[i]] = i\n"
   ]
  },
  {
   "cell_type": "code",
   "execution_count": 353,
   "metadata": {},
   "outputs": [],
   "source": [
    "X = np.random.randn(len(df_posts) , len(features)) * 0.01\n",
    "theta = np.random.randn(len(df_users) , len(features))*0.01\n",
    "number_users = Y.shape[1]\n",
    "number_posts = Y.shape[0]"
   ]
  },
  {
   "cell_type": "code",
   "execution_count": 354,
   "metadata": {},
   "outputs": [
    {
     "name": "stdout",
     "output_type": "stream",
     "text": [
      "0.13604327365321944\n"
     ]
    }
   ],
   "source": [
    "Y = np.zeros((len(df_posts) , len(df_users)))\n",
    "for i in range(len(df_views)):\n",
    "    user  = df_views['user_id'][i]\n",
    "    post = df_views['post_id'][i]\n",
    "    if post in posts_dictionary:\n",
    "        Y[posts_dictionary[post]][user_dictionary[user]] =1\n",
    "print(np.sum(theta[9]))"
   ]
  },
  {
   "cell_type": "code",
   "execution_count": 355,
   "metadata": {},
   "outputs": [],
   "source": [
    "def compute_cost(X , Y , theta , lamda):\n",
    "    J =0\n",
    "    for j in range(number_users):\n",
    "        for i in range(number_posts):\n",
    "            if(Y[i][j]):\n",
    "                x = X[i , :]\n",
    "                x.resize(X.shape[1] , 1)\n",
    "                the = theta[j , :]\n",
    "                the.resize(theta.shape[1] , 1)\n",
    "                J += ((np.dot(the.T , x) - Y[i][j]) ** 2)/2\n",
    "    for j in range(number_users):\n",
    "        J += lamda/2 * np.sum(theta[j,:])\n",
    "    \n",
    "    for i in range(number_posts):\n",
    "        J += lamda/2 * np.sum(X[i,:])\n",
    "    \n",
    "    return J\n",
    "\n",
    "def gradient_descen(alpha , num_iterations , X , Y , theta , lamda):\n",
    "    m = Y.shape[0]\n",
    "    number_users = Y.shape[1]\n",
    "    number_posts = Y.shape[0]\n",
    "\n",
    "    for k in range(num_iterations):\n",
    "        tj = np.zeros((theta.shape[0] , theta.shape[1]))\n",
    "        xi = np.zeros((X.shape[0] , X.shape[1]))\n",
    "        for j in range(number_users):\n",
    "            t = np.zeros((theta.shape[1]  , 1))\n",
    "            for i in range(number_posts):\n",
    "                if(Y[i][j] == 1):\n",
    "                    x = X[i , :]\n",
    "                    x.resize(X.shape[1] , 1)\n",
    "                    the = theta[j , :]\n",
    "                    the.resize(theta.shape[1] , 1)\n",
    "                    t += (np.dot(the.T , x) - Y[i][j]) * x\n",
    "            t = t[: , 0]\n",
    "            tj[j,:] = theta[j,:]\n",
    "            tj[j,:] = tj[j,:] -  alpha*(t + lamda*tj[j])\n",
    "        for i in range(number_posts):\n",
    "            xc = np.zeros((X.shape[1] , 1))\n",
    "            for j in range(number_users):\n",
    "                if(Y[i][j] == 1):\n",
    "                    x = X[i , :]\n",
    "                    x.resize(X.shape[1] , 1)\n",
    "                    the = theta[j , :]\n",
    "                    the.resize(theta.shape[1] , 1)\n",
    "                    xc += (np.dot(the.T , x) - Y[i][j])*the\n",
    "            xc= xc[:,0] \n",
    "            xi[i , :] = X[i , :]\n",
    "            xi[i, :] = xi[i, :] - alpha*(xc + lamda*xi[i])\n",
    "        theta = tj\n",
    "        X = xi    \n",
    "        if k%100 == 0:\n",
    "            print(k , compute_cost(X , Y , theta , lamda))\n",
    "    \n",
    "    return [X , theta]"
   ]
  },
  {
   "cell_type": "code",
   "execution_count": 357,
   "metadata": {},
   "outputs": [
    {
     "name": "stdout",
     "output_type": "stream",
     "text": [
      "0 [[23.10483448]]\n",
      "100 [[23.11885589]]\n",
      "200 [[23.13466645]]\n",
      "300 [[23.15172309]]\n"
     ]
    },
    {
     "ename": "KeyboardInterrupt",
     "evalue": "",
     "output_type": "error",
     "traceback": [
      "\u001b[0;31m---------------------------------------------------------------------------\u001b[0m",
      "\u001b[0;31mKeyboardInterrupt\u001b[0m                         Traceback (most recent call last)",
      "\u001b[0;32m<ipython-input-357-5b40eb27a8f4>\u001b[0m in \u001b[0;36m<module>\u001b[0;34m\u001b[0m\n\u001b[0;32m----> 1\u001b[0;31m \u001b[0mX\u001b[0m \u001b[0;34m,\u001b[0m \u001b[0mtheta\u001b[0m \u001b[0;34m=\u001b[0m \u001b[0mgradient_descen\u001b[0m\u001b[0;34m(\u001b[0m\u001b[0;36m0.01\u001b[0m \u001b[0;34m,\u001b[0m \u001b[0;36m2000\u001b[0m \u001b[0;34m,\u001b[0m \u001b[0mX\u001b[0m \u001b[0;34m,\u001b[0m \u001b[0mY\u001b[0m \u001b[0;34m,\u001b[0m \u001b[0mtheta\u001b[0m \u001b[0;34m,\u001b[0m \u001b[0;36m0.5\u001b[0m\u001b[0;34m)\u001b[0m\u001b[0;34m\u001b[0m\u001b[0;34m\u001b[0m\u001b[0m\n\u001b[0m",
      "\u001b[0;32m<ipython-input-355-21f02f95763a>\u001b[0m in \u001b[0;36mgradient_descen\u001b[0;34m(alpha, num_iterations, X, Y, theta, lamda)\u001b[0m\n\u001b[1;32m     28\u001b[0m             \u001b[0mt\u001b[0m \u001b[0;34m=\u001b[0m \u001b[0mnp\u001b[0m\u001b[0;34m.\u001b[0m\u001b[0mzeros\u001b[0m\u001b[0;34m(\u001b[0m\u001b[0;34m(\u001b[0m\u001b[0mtheta\u001b[0m\u001b[0;34m.\u001b[0m\u001b[0mshape\u001b[0m\u001b[0;34m[\u001b[0m\u001b[0;36m1\u001b[0m\u001b[0;34m]\u001b[0m  \u001b[0;34m,\u001b[0m \u001b[0;36m1\u001b[0m\u001b[0;34m)\u001b[0m\u001b[0;34m)\u001b[0m\u001b[0;34m\u001b[0m\u001b[0;34m\u001b[0m\u001b[0m\n\u001b[1;32m     29\u001b[0m             \u001b[0;32mfor\u001b[0m \u001b[0mi\u001b[0m \u001b[0;32min\u001b[0m \u001b[0mrange\u001b[0m\u001b[0;34m(\u001b[0m\u001b[0mnumber_posts\u001b[0m\u001b[0;34m)\u001b[0m\u001b[0;34m:\u001b[0m\u001b[0;34m\u001b[0m\u001b[0;34m\u001b[0m\u001b[0m\n\u001b[0;32m---> 30\u001b[0;31m                 \u001b[0;32mif\u001b[0m\u001b[0;34m(\u001b[0m\u001b[0mY\u001b[0m\u001b[0;34m[\u001b[0m\u001b[0mi\u001b[0m\u001b[0;34m]\u001b[0m\u001b[0;34m[\u001b[0m\u001b[0mj\u001b[0m\u001b[0;34m]\u001b[0m \u001b[0;34m==\u001b[0m \u001b[0;36m1\u001b[0m\u001b[0;34m)\u001b[0m\u001b[0;34m:\u001b[0m\u001b[0;34m\u001b[0m\u001b[0;34m\u001b[0m\u001b[0m\n\u001b[0m\u001b[1;32m     31\u001b[0m                     \u001b[0mx\u001b[0m \u001b[0;34m=\u001b[0m \u001b[0mX\u001b[0m\u001b[0;34m[\u001b[0m\u001b[0mi\u001b[0m \u001b[0;34m,\u001b[0m \u001b[0;34m:\u001b[0m\u001b[0;34m]\u001b[0m\u001b[0;34m\u001b[0m\u001b[0;34m\u001b[0m\u001b[0m\n\u001b[1;32m     32\u001b[0m                     \u001b[0mx\u001b[0m\u001b[0;34m.\u001b[0m\u001b[0mresize\u001b[0m\u001b[0;34m(\u001b[0m\u001b[0mX\u001b[0m\u001b[0;34m.\u001b[0m\u001b[0mshape\u001b[0m\u001b[0;34m[\u001b[0m\u001b[0;36m1\u001b[0m\u001b[0;34m]\u001b[0m \u001b[0;34m,\u001b[0m \u001b[0;36m1\u001b[0m\u001b[0;34m)\u001b[0m\u001b[0;34m\u001b[0m\u001b[0;34m\u001b[0m\u001b[0m\n",
      "\u001b[0;31mKeyboardInterrupt\u001b[0m: "
     ]
    }
   ],
   "source": [
    "X , theta = gradient_descen(0.01 , 2000 , X , Y , theta , 0.5)"
   ]
  },
  {
   "cell_type": "code",
   "execution_count": 435,
   "metadata": {},
   "outputs": [],
   "source": [
    "\n",
    "def suggest_posts(user_index):\n",
    "    #user_index = user_dictionary[user]\n",
    "    theta_user = theta[user_index , :]\n",
    "    theta_user.reshape(theta.shape[1] , 1)\n",
    "    already_seen = []\n",
    "    recommended = {}\n",
    "    for i in range(number_posts):\n",
    "        X_post = X[i,:]\n",
    "        X_post.reshape(X.shape[1] , 1)\n",
    "        \n",
    "        if(Y[i][user_index] ==1):\n",
    "            already_seen.append(i)\n",
    "        else:\n",
    "            recommended[i] = np.dot(theta_user.T , X_post)\n",
    "    \n",
    "    recommended_list = sorted(recommended.items() ,reverse = True ,  key=lambda x: x[1])\n",
    "    print(\"Already seen posts: \")\n",
    "    for i in range(len(already_seen)):\n",
    "        print(df_posts['category'][already_seen[i]])\n",
    "    \n",
    "    print(\"\")\n",
    "    print(\"\")\n",
    "    print(\"Recommended: \")\n",
    "    for i in range(len(recommended_list)):\n",
    "        if(i>=20):\n",
    "            break\n",
    "        print(df_posts['category'][recommended_list[i][0]])\n"
   ]
  },
  {
   "cell_type": "code",
   "execution_count": 438,
   "metadata": {},
   "outputs": [
    {
     "name": "stdout",
     "output_type": "stream",
     "text": [
      "Already seen posts: \n",
      "Photography\n",
      "Photography\n",
      "Photography\n",
      "Photography\n",
      "\n",
      "\n",
      "Recommended: \n",
      "Marketing|Principles Of Marketing|Marketing Research Methadology|Marketing Management|International Marketing\n",
      "Marketing|Principles Of Marketing|International Marketing|Promotion And Distribution Decisions\n",
      "Photography\n",
      "Psycholgy|Psychological Growth\n",
      "Computer Technology|Cloud Computing\n",
      "nan\n",
      "Geography|Indian Geography\n",
      "Computer Technology|Cloud Computing\n",
      "Business|Business Strategies|Business Enviorment|New Venture Planning|Foreign Business|Business Organisation\n",
      "Drawings\n",
      "Photography\n",
      "Computer Technology|Machine Learning\n",
      "Sculptures\n",
      "Computer Technology|Machine Learning\n",
      "Biotechnology|Molecular Biology\n",
      "Craft work\n",
      "Graphics|Articulation|Computer Creation\n",
      "Drawings|Painting|Visual Arts|Artistic design|Watercolours|Acrylics\n",
      "Computer Technology|Machine Learning\n",
      "Economics|Revenue Concept\n"
     ]
    }
   ],
   "source": [
    "suggest_posts(28)"
   ]
  },
  {
   "cell_type": "code",
   "execution_count": 377,
   "metadata": {},
   "outputs": [],
   "source": [
    "def suggest_related_posts(post_index):\n",
    "    #post_index = post_dictionary[post_index]\n",
    "    this_vector = X[post_index , :]\n",
    "    this_vector.reshape(X.shape[1] , 1)\n",
    "    recommended = {}\n",
    "    print(df_posts['category'][post_index])\n",
    "    print()\n",
    "    for i in (range(number_posts)):\n",
    "        that_vector = X[i , :]\n",
    "        that_vector.reshape(X.shape[1] , 1)\n",
    "        dist = np.linalg.norm(this_vector - that_vector)\n",
    "        recommended[i] = dist\n",
    "    recommended_list = sorted(recommended.items() , key=lambda x: x[1])\n",
    "    for i in range(len(recommended_list)):\n",
    "        if(i>=10):\n",
    "            break\n",
    "        print(df_posts['category'][recommended_list[i][0]])"
   ]
  },
  {
   "cell_type": "code",
   "execution_count": 443,
   "metadata": {},
   "outputs": [
    {
     "name": "stdout",
     "output_type": "stream",
     "text": [
      "Drawings\n",
      "\n",
      "Drawings\n",
      "nan\n",
      "Drawings\n",
      "nan\n",
      "Computer Technology|Computer Application\n",
      "Drawings\n",
      "Painting\n",
      "E Commerce|Other Online Platforms\n",
      "Drawings\n",
      "nan\n"
     ]
    }
   ],
   "source": [
    "suggest_related_posts(12)"
   ]
  },
  {
   "cell_type": "code",
   "execution_count": 445,
   "metadata": {},
   "outputs": [],
   "source": [
    "np.save(\"collaborative_theta\" , theta)\n",
    "np.save(\"collaborative_features\" , X)"
   ]
  },
  {
   "cell_type": "code",
   "execution_count": null,
   "metadata": {},
   "outputs": [],
   "source": []
  }
 ],
 "metadata": {
  "kernelspec": {
   "display_name": "Python 3",
   "language": "python",
   "name": "python3"
  },
  "language_info": {
   "codemirror_mode": {
    "name": "ipython",
    "version": 3
   },
   "file_extension": ".py",
   "mimetype": "text/x-python",
   "name": "python",
   "nbconvert_exporter": "python",
   "pygments_lexer": "ipython3",
   "version": "3.7.6"
  }
 },
 "nbformat": 4,
 "nbformat_minor": 4
}
