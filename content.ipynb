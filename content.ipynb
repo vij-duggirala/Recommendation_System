{
 "cells": [
  {
   "cell_type": "code",
   "execution_count": 1012,
   "metadata": {},
   "outputs": [],
   "source": [
    "import pandas as pd\n",
    "\n",
    "df_users = pd.read_csv(\"Mldata/users.csv\")\n",
    "df_posts = pd.read_csv(\"Mldata/posts.csv\")\n",
    "df_views = pd.read_csv(\"Mldata/views.csv\")"
   ]
  },
  {
   "cell_type": "code",
   "execution_count": 1029,
   "metadata": {},
   "outputs": [
    {
     "name": "stdout",
     "output_type": "stream",
     "text": [
      "                             _id            name gender      academics\n",
      "count                        118             118    118            118\n",
      "unique                       118             118      3              3\n",
      "top     5d60098a653a331687083238  Fauziya Shaikh   male  undergraduate\n",
      "freq                           1               1     72             68\n",
      "                             _id             title     category    ptype\n",
      "count                        493               493          465      493\n",
      "unique                       493               477          231        4\n",
      "top     5ecb7155eaff6b0c3a58a486  PENCIL RENDERING  Photography  artwork\n",
      "freq                           1                 3           81      241\n",
      "                         user_id                   post_id  \\\n",
      "count                       1449                      1449   \n",
      "unique                       118                       495   \n",
      "top     5d60098a653a331687083238  5ec1fd0974f7660d73aa0fd5   \n",
      "freq                         230                        18   \n",
      "\n",
      "                       timestamp  \n",
      "count                       1449  \n",
      "unique                      1449  \n",
      "top     2020-05-18T21:04:15.153Z  \n",
      "freq                           1  \n"
     ]
    }
   ],
   "source": [
    "df_posts.columns = ['_id' , 'title' , 'category' , 'ptype']\n",
    "print(df_users.describe())\n",
    "print(df_posts.describe())\n",
    "print(df_views.describe())\n"
   ]
  },
  {
   "cell_type": "code",
   "execution_count": 1030,
   "metadata": {},
   "outputs": [],
   "source": [
    "user_dictionary = {}\n",
    "for i in range(len(df_users['_id'])):\n",
    "    user_dictionary[df_users['_id'][i]] = i\n",
    "    \n",
    "posts_dictionary = {}\n",
    "for i in range(len(df_posts)):\n",
    "    posts_dictionary[df_posts['_id'][i]] = i\n"
   ]
  },
  {
   "cell_type": "code",
   "execution_count": 1031,
   "metadata": {},
   "outputs": [
    {
     "name": "stdout",
     "output_type": "stream",
     "text": [
      "238\n"
     ]
    }
   ],
   "source": [
    "item_features = set()\n",
    "for i in range(len(df_posts)):\n",
    "    if(pd.notnull(df_posts['category'][i])):\n",
    "        diff= df_posts['category'][i].split('|')\n",
    "        #print(diff)\n",
    "        for spec in diff:\n",
    "            item_features.add(spec)\n",
    "\n",
    "item_features.add('blog')\n",
    "item_features.add('artwork')\n",
    "item_features.add('project')\n",
    "item_features.add('skill')\n",
    "print(len(item_features))"
   ]
  },
  {
   "cell_type": "code",
   "execution_count": 1032,
   "metadata": {},
   "outputs": [],
   "source": [
    "import numpy as np\n",
    "features = np.array(list(item_features))"
   ]
  },
  {
   "cell_type": "code",
   "execution_count": 1033,
   "metadata": {},
   "outputs": [],
   "source": [
    "features_dictionary = {}\n",
    "for i in range(len(features)):\n",
    "    features_dictionary[features[i]] = i\n"
   ]
  },
  {
   "cell_type": "code",
   "execution_count": 1034,
   "metadata": {},
   "outputs": [
    {
     "name": "stdout",
     "output_type": "stream",
     "text": [
      "1431.0\n"
     ]
    }
   ],
   "source": [
    "X = np.zeros((len(df_posts)  , len(features)))\n",
    " \n",
    "for i in range(len(df_posts)):\n",
    "    if(pd.notnull(df_posts['category'][i])):\n",
    "        diff= df_posts['category'][i].split('|')\n",
    "        for spec in diff:\n",
    "            X[i][features_dictionary[spec]] += 1\n",
    "    \n",
    "    diff = df_posts['title'][i].split(' ')\n",
    "    for spec in diff:\n",
    "        if spec in item_features:\n",
    "            X[i][features_dictionary[spec]] +=1\n",
    "    X[i][features_dictionary[df_posts['ptype'][i]]] += 1\n",
    "\n",
    "print(np.sum(X))"
   ]
  },
  {
   "cell_type": "code",
   "execution_count": 1035,
   "metadata": {},
   "outputs": [],
   "source": [
    "theta = np.zeros((len(df_users) , len(features)+1))\n",
    "X = np.insert(X , 0 , values = 1, axis =1)"
   ]
  },
  {
   "cell_type": "code",
   "execution_count": 1036,
   "metadata": {},
   "outputs": [
    {
     "name": "stdout",
     "output_type": "stream",
     "text": [
      "13950.0\n"
     ]
    }
   ],
   "source": [
    "Y = np.zeros((len(df_posts) , len(df_users)))\n",
    "for i in range(len(df_views)):\n",
    "    user  = df_views['user_id'][i]\n",
    "    post = df_views['post_id'][i]\n",
    "    if post in posts_dictionary:\n",
    "        Y[posts_dictionary[post]][user_dictionary[user]] =10\n",
    "print(np.sum(Y))"
   ]
  },
  {
   "cell_type": "code",
   "execution_count": 1037,
   "metadata": {},
   "outputs": [
    {
     "name": "stdout",
     "output_type": "stream",
     "text": [
      "(493, 118)\n",
      "(493, 239)\n",
      "(118, 239)\n"
     ]
    }
   ],
   "source": [
    "print(Y.shape)\n",
    "print(X.shape)\n",
    "print(theta.shape)\n",
    "number_users = Y.shape[1]\n",
    "number_posts = Y.shape[0]\n",
    "row_sums = X.sum(axis=1)\n",
    "X = X / row_sums[:, numpy.newaxis]\n"
   ]
  },
  {
   "cell_type": "code",
   "execution_count": 1038,
   "metadata": {},
   "outputs": [],
   "source": [
    "def compute_cost(X , Y , theta):\n",
    "    J =0\n",
    "    for j in range(number_users):\n",
    "        for i in range(number_posts):\n",
    "            if(Y[i][j]):\n",
    "                x = X[i , :]\n",
    "                x.resize(X.shape[1] , 1)\n",
    "                the = theta[j , :]\n",
    "                the.resize(theta.shape[1] , 1)\n",
    "                J += ((np.dot(the.T , x) - Y[i][j]) ** 2)/2\n",
    "    \n",
    "    return J\n",
    "\n",
    "def gradient_descent(alpha , num_iterations , X , Y , theta):\n",
    "    m = Y.shape[0]\n",
    "    number_users = Y.shape[1]\n",
    "    number_posts = Y.shape[0]\n",
    "    for k in range(num_iterations):\n",
    "        for j in range(number_users):\n",
    "            t = np.zeros((X.shape[1]  , 1))\n",
    "            for i in range(number_posts):\n",
    "                if(Y[i][j]):\n",
    "                    x = X[i , :]\n",
    "                    x.resize(X.shape[1] , 1)\n",
    "                    the = theta[j , :]\n",
    "                    the.resize(theta.shape[1] , 1)\n",
    "                    t += (np.dot(the.T , x) - Y[i][j]) * x\n",
    "            tj = theta[j ,:]\n",
    "            tj.resize(theta.shape[1] , 1)\n",
    "            tj = tj -  alpha*(t)\n",
    "            theta[j, :] = tj.reshape(theta.shape[1])\n",
    "            \n",
    "        if k%100 == 0:\n",
    "            print(k , compute_cost(X , Y , theta))\n",
    "        "
   ]
  },
  {
   "cell_type": "code",
   "execution_count": 1041,
   "metadata": {},
   "outputs": [
    {
     "name": "stdout",
     "output_type": "stream",
     "text": [
      "[[61.82890985]]\n",
      "0 [[61.79555397]]\n",
      "100 [[58.58448281]]\n",
      "200 [[55.60365172]]\n",
      "300 [[52.83102161]]\n",
      "400 [[50.24726838]]\n",
      "500 [[47.8353746]]\n",
      "600 [[45.5802926]]\n",
      "700 [[43.46866503]]\n",
      "800 [[41.48859166]]\n",
      "900 [[39.62943388]]\n",
      "1000 [[37.88165001]]\n",
      "1100 [[36.23665585]]\n",
      "1200 [[34.68670612]]\n",
      "1300 [[33.22479334]]\n",
      "1400 [[31.84456102]]\n",
      "[[30.55291435]]\n"
     ]
    }
   ],
   "source": [
    "print(compute_cost(X , Y  , theta))\n",
    "gradient_descent(0.01 , 4500 , X ,  Y , theta)\n",
    "print(compute_cost(X , Y  , theta))"
   ]
  },
  {
   "cell_type": "code",
   "execution_count": 1067,
   "metadata": {},
   "outputs": [],
   "source": [
    "def suggest_posts(user_index):\n",
    "    #user_index = user_dictionary[user]\n",
    "    theta_user = theta[user_index , :]\n",
    "    theta_user.reshape(theta.shape[1] , 1)\n",
    "    already_seen = []\n",
    "    recommended = {}\n",
    "    for i in range(number_posts):\n",
    "        X_post = X[i,:]\n",
    "        X_post.reshape(X.shape[1] , 1)\n",
    "        \n",
    "        if(Y[i][user_index] == 10):\n",
    "            already_seen.append(i)\n",
    "        else:\n",
    "            recommended[i] = abs(10 - np.dot(theta_user.T , X_post))\n",
    "    \n",
    "    recommended_list = sorted(recommended.items() , key=lambda x: x[1])\n",
    "    print(\"Already seen posts: \")\n",
    "    for i in range(len(already_seen)):\n",
    "        print(df_posts['category'][already_seen[i]])\n",
    "    \n",
    "    print(\"\")\n",
    "    print(\"\")\n",
    "    print(\"Recommended: \")\n",
    "    for i in range(len(recommended_list)):\n",
    "        if(i>=10):\n",
    "            break\n",
    "        print(df_posts['category'][recommended_list[i][0]])\n",
    "\n",
    "            "
   ]
  },
  {
   "cell_type": "code",
   "execution_count": 1084,
   "metadata": {},
   "outputs": [
    {
     "name": "stdout",
     "output_type": "stream",
     "text": [
      "Already seen posts: \n",
      "Photography\n",
      "Photography\n",
      "Photography\n",
      "Photography\n",
      "\n",
      "\n",
      "Recommended: \n",
      "Photography\n",
      "Photography\n",
      "Photography\n",
      "Photography\n",
      "Photography\n",
      "Photography\n",
      "Photography\n",
      "Photography\n",
      "Photography\n",
      "Photography\n"
     ]
    }
   ],
   "source": [
    "suggest_posts(28)"
   ]
  },
  {
   "cell_type": "code",
   "execution_count": 1001,
   "metadata": {},
   "outputs": [],
   "source": [
    "def suggest_related_posts(post_index):\n",
    "    #post_index = post_dictionary[post_index]\n",
    "    this_vector = X[post_index , :]\n",
    "    this_vector.reshape(X.shape[1] , 1)\n",
    "    recommended = {}\n",
    "    print(df_posts['category'][post_index])\n",
    "    print()\n",
    "    for i in (range(number_posts)):\n",
    "        that_vector = X[i , :]\n",
    "        that_vector.reshape(X.shape[1] , 1)\n",
    "        dist = numpy.linalg.norm(this_vector - that_vector)\n",
    "        recommended[i] = dist\n",
    "    recommended_list = sorted(recommended.items() , key=lambda x: x[1])\n",
    "    for i in range(len(recommended_list)):\n",
    "        if(i>=10):\n",
    "            break\n",
    "        print(df_posts['category'][recommended_list[i][0]])"
   ]
  },
  {
   "cell_type": "code",
   "execution_count": 1085,
   "metadata": {},
   "outputs": [
    {
     "name": "stdin",
     "output_type": "stream",
     "text": [
      " 12\n"
     ]
    },
    {
     "name": "stdout",
     "output_type": "stream",
     "text": [
      "Drawings\n",
      "\n",
      "Drawings\n",
      "Drawings\n",
      "Drawings\n",
      "Drawings\n",
      "Drawings\n",
      "Drawings\n",
      "Drawings\n",
      "Drawings\n",
      "Drawings\n",
      "Drawings\n"
     ]
    }
   ],
   "source": [
    "ind = int(input())\n",
    "suggest_related_posts(ind)"
   ]
  },
  {
   "cell_type": "code",
   "execution_count": 1087,
   "metadata": {},
   "outputs": [],
   "source": [
    "np.save('content_theta' , theta)\n",
    "np.save('content_features' , X)"
   ]
  },
  {
   "cell_type": "code",
   "execution_count": null,
   "metadata": {},
   "outputs": [],
   "source": []
  }
 ],
 "metadata": {
  "kernelspec": {
   "display_name": "Python 3",
   "language": "python",
   "name": "python3"
  },
  "language_info": {
   "codemirror_mode": {
    "name": "ipython",
    "version": 3
   },
   "file_extension": ".py",
   "mimetype": "text/x-python",
   "name": "python",
   "nbconvert_exporter": "python",
   "pygments_lexer": "ipython3",
   "version": "3.7.6"
  }
 },
 "nbformat": 4,
 "nbformat_minor": 4
}
