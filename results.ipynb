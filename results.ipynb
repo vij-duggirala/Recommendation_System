{
 "cells": [
  {
   "cell_type": "code",
   "execution_count": 27,
   "metadata": {},
   "outputs": [],
   "source": [
    "import pandas as pd\n",
    "import numpy as np"
   ]
  },
  {
   "cell_type": "code",
   "execution_count": 28,
   "metadata": {},
   "outputs": [],
   "source": [
    "df_users = pd.read_csv(\"Mldata/users.csv\")\n",
    "df_posts = pd.read_csv(\"Mldata/posts.csv\")\n",
    "df_views = pd.read_csv(\"Mldata/views.csv\")\n",
    "df_posts.columns = ['_id' , 'title' , 'category' , 'ptype']\n",
    "number_posts = len(df_posts)\n",
    "number_users = len(df_users)"
   ]
  },
  {
   "cell_type": "code",
   "execution_count": 29,
   "metadata": {},
   "outputs": [],
   "source": [
    "user_dictionary = {}\n",
    "for i in range(len(df_users['_id'])):\n",
    "    user_dictionary[df_users['_id'][i]] = i\n",
    "    \n",
    "posts_dictionary = {}\n",
    "for i in range(len(df_posts)):\n",
    "    posts_dictionary[df_posts['_id'][i]] = i\n"
   ]
  },
  {
   "cell_type": "code",
   "execution_count": 59,
   "metadata": {},
   "outputs": [],
   "source": [
    "#loads the data that has been trained on gradient descent in content.ipynb and collaborative.ipynb \n",
    "contentbased_theta = np.load('content_theta.npy')\n",
    "contentbased_features = np.load('content_features.npy')\n",
    "\n",
    "collaborativebased_theta = np.load('collaborative_theta.npy')\n",
    "collaborativebased_features = np.load('collaborative_features.npy')\n",
    "\n",
    "Y = np.zeros((len(df_posts) , len(df_users)))\n",
    "for i in range(len(df_views)):\n",
    "    user  = df_views['user_id'][i]\n",
    "    post = df_views['post_id'][i]\n",
    "    if post in posts_dictionary:\n",
    "        Y[posts_dictionary[post]][user_dictionary[user]] =1"
   ]
  },
  {
   "cell_type": "code",
   "execution_count": 84,
   "metadata": {},
   "outputs": [],
   "source": [
    "def suggest_posts(user_index  , method ):\n",
    "    #\n",
    "    if(method == \"content_based\"):\n",
    "        theta = contentbased_theta\n",
    "        X = contentbased_features\n",
    "    else:\n",
    "        theta = collaborativebased_theta\n",
    "        X = collaborativebased_features\n",
    "    \n",
    "    \n",
    "    theta_user = theta[user_index , :]\n",
    "    theta_user.reshape(theta.shape[1] , 1)\n",
    "    already_seen = []\n",
    "    recommended = {}\n",
    "    for i in range(number_posts):\n",
    "        X_post = X[i,:]\n",
    "        X_post.reshape(X.shape[1] , 1)\n",
    "        \n",
    "        if(Y[i][user_index] == 1):\n",
    "            already_seen.append(i)\n",
    "        else:\n",
    "            recommended[i] = np.dot(theta_user.T , X_post)\n",
    "    \n",
    "    #sorts the \"possible rating\" for each post in reverse order\n",
    "    recommended_list = sorted(recommended.items() , reverse = True , key=lambda x: x[1])\n",
    "    print(\"Already seen posts: \")\n",
    "    for i in range(len(already_seen)):\n",
    "        print(\"Title: \" ,df_posts['title'][i]  ,\"\\nCategories: \"  ,  df_posts['category'][already_seen[i]])\n",
    "    \n",
    "    \n",
    "    print(\"\\nRecommended: \\n\")\n",
    "    for i in range(len(recommended_list)):\n",
    "        #prints the top 10\n",
    "        if(i>=10):\n",
    "            break\n",
    "        print(\"Title: \" ,df_posts['title'][recommended_list[i][0]]  ,\"\\nCategories: \"  ,  df_posts['category'][recommended_list[i][0]])\n",
    "\n",
    "            "
   ]
  },
  {
   "cell_type": "code",
   "execution_count": 85,
   "metadata": {},
   "outputs": [],
   "source": [
    "def suggest_related_posts(post_index , method):\n",
    "\n",
    "    if(method == \"content_based\"):\n",
    "        theta = contentbased_theta\n",
    "        X = contentbased_features\n",
    "    else:\n",
    "        theta = collaborativebased_theta\n",
    "        X = collaborativebased_features\n",
    "    \n",
    "    \n",
    "    this_vector = X[post_index , :]\n",
    "    this_vector.reshape(X.shape[1] , 1)\n",
    "    recommended = {}\n",
    "    print(\"Given post: \")\n",
    "    print(\"Title: \" ,df_posts['title'][post_index]  ,\"\\nCategories: \"  ,  df_posts['category'][post_index])\n",
    "\n",
    "    print(\"Suggested: \")\n",
    "    print()\n",
    "    #calculates the euclidian distance between the feature vectors of given post and every other post\n",
    "    for i in (range(number_posts)):\n",
    "        that_vector = X[i , :]\n",
    "        that_vector.reshape(X.shape[1] , 1)\n",
    "        dist = np.linalg.norm(this_vector - that_vector)\n",
    "        recommended[i] = dist\n",
    "        \n",
    "    #sorts the distances in reverse order and prints the top 10\n",
    "    recommended_list = sorted(recommended.items() , key=lambda x: x[1])\n",
    "    for i in range(len(recommended_list)):\n",
    "        if(i>=10):\n",
    "            break\n",
    "        print(\"Title: \" ,df_posts['title'][recommended_list[i][0]]  ,\"\\nCategories: \"  ,  df_posts['category'][recommended_list[i][0]])\n"
   ]
  },
  {
   "cell_type": "code",
   "execution_count": 106,
   "metadata": {},
   "outputs": [
    {
     "name": "stdin",
     "output_type": "stream",
     "text": [
      "Enter the index of user  ( 0- 187) 94\n",
      "Enter choice: \n",
      "1.Content Based\n",
      "2.Collaborative Based\n",
      " 2\n"
     ]
    },
    {
     "name": "stdout",
     "output_type": "stream",
     "text": [
      "Already seen posts: \n",
      "Title:  hello there \n",
      "Categories:  Computer Technology|Machine Learning\n",
      "\n",
      "Recommended: \n",
      "\n",
      "Title:  Understanding Cloud Computing(AWS) \n",
      "Categories:  Computer Technology|Cloud Computing\n",
      "Title:  AWS services and how to launch OS on AWS Cloud \n",
      "Categories:  Computer Technology|Cloud Computing\n",
      "Title:  GAN's Part(2) \n",
      "Categories:  Computer Technology|Machine Learning\n",
      "Title:  Learning... \n",
      "Categories:  Computer Technology|Machine Learning\n",
      "Title:  Integrating Machine Learning with devOps(MLops) \n",
      "Categories:  Computer Technology|Data Science\n",
      "Title:  Launching an EC2 instance. \n",
      "Categories:  Technology\n",
      "Title:  Cloud Computing \n",
      "Categories:  Computer Technology|Computation|Computer Application|Cloud Computing\n",
      "Title:  Fear. \n",
      "Categories:  Typography|Calligraphy|Pen and ink\n",
      "Title:  GAN's Introduction \n",
      "Categories:  nan\n",
      "Title:  Recommend Systems Machine Learning \n",
      "Categories:  Computer Technology|Machine Learning\n"
     ]
    }
   ],
   "source": [
    "x = int(input(\"Enter the index of user  ( 0- 187)\"))\n",
    "#can do user id as well, which can be converted to index with the help of user_dictionary\n",
    "t = int(input(\"Enter choice: \\n1.Content Based\\n2.Collaborative Based\\n\"))\n",
    "if(t==1):\n",
    "    suggest_posts(x , \"content_based\")\n",
    "else:\n",
    "    suggest_posts(x , \"collaborative_based\")"
   ]
  },
  {
   "cell_type": "code",
   "execution_count": 96,
   "metadata": {},
   "outputs": [
    {
     "name": "stdin",
     "output_type": "stream",
     "text": [
      "Enter the index of the post (0-492) 99\n",
      "Enter choice: \n",
      "1.Content Based\n",
      "2.Collaborative Based\n",
      " 2\n"
     ]
    },
    {
     "name": "stdout",
     "output_type": "stream",
     "text": [
      "Given post: \n",
      "Title:  Overloading Method(.net) \n",
      "Categories:  nan\n",
      "Suggested: \n",
      "\n",
      "Title:  Mahakaal \n",
      "Categories:  Drawing\n",
      "Title:  Armstrong No.(C# .Net) \n",
      "Categories:  nan\n",
      "Title:  Negative or Positive No. (PHP) \n",
      "Categories:  nan\n",
      "Title:  Communication \n",
      "Categories:  Communication|Basics of Communiaction\n",
      "Title:  Lord Shiva \n",
      "Categories:  Drawings\n",
      "Title:  OM \n",
      "Categories:  Drawings\n",
      "Title:  Decision Making with 7 steps !!! \n",
      "Categories:  Computer Technology|Computer Application|Information Technology\n",
      "Title:  Database management system(DBMS) \n",
      "Categories:  Computer Technology|Computer Application|Information Technology\n",
      "Title:  Spartan \n",
      "Categories:  Drawings\n"
     ]
    }
   ],
   "source": [
    "x = int(input(\"Enter the index of the post (0-492)\"))\n",
    "#can do post id as well using the post_dictionary\n",
    "t =int(input(\"Enter choice: \\n1.Content Based\\n2.Collaborative Based\\n\"))\n",
    "if(t==1):\n",
    "    suggest_related_posts(x , \"content_based\")\n",
    "else:\n",
    "    suggest_related_posts(x , \"collaborative_based\")"
   ]
  },
  {
   "cell_type": "code",
   "execution_count": null,
   "metadata": {},
   "outputs": [],
   "source": []
  }
 ],
 "metadata": {
  "kernelspec": {
   "display_name": "Python 3",
   "language": "python",
   "name": "python3"
  },
  "language_info": {
   "codemirror_mode": {
    "name": "ipython",
    "version": 3
   },
   "file_extension": ".py",
   "mimetype": "text/x-python",
   "name": "python",
   "nbconvert_exporter": "python",
   "pygments_lexer": "ipython3",
   "version": "3.7.6"
  }
 },
 "nbformat": 4,
 "nbformat_minor": 4
}
